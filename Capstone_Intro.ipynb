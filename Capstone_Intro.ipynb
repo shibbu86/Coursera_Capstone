{
 "cells": [
  {
   "cell_type": "markdown",
   "metadata": {},
   "source": [
    "# Applied Data Science Capstone - Final Assignment\n",
    "\n",
    "This notebook is for the capstone project as the final assignment of Applied Data Science Capstone course of IBM Data Science certification.\n",
    "This project will try to solve a problem or question by applying data science methods on the location data gotten from FourSquare API.  \n",
    "\n",
    "### Shivkant Jaiwal\n",
    "Email: shivkant.jaiswal@gmail.com"
   ]
  },
  {
   "cell_type": "markdown",
   "metadata": {},
   "source": [
    "## I. Project Description:  \n",
    "### 1. Introduction:\n",
    "\n",
    "In past decade, some of Indian cities have seen drastic change in term of the living condition, population, infrastructure, cost of living and facilities. National capital region (NCR) of the country has seen many changes in last 3 decades. \n",
    "\n",
    "Getting new metro cities like Gurgaon and Noida, hosting many industries, getting new problems (high pollution and high population) are some of the changes the NCR has experienced over the period.\n",
    "\n",
    "Apart from having its own problems, still this region of the country provides many opportunity to the people of the nearest state to join fastly growing automobile, textile and IT industries. \n",
    "\n",
    "Millions of people join the NCR region every year. Providing affordable accommodation with basic facilities to all the existing and ever-growing population of this region have been a great challenge for the local bodies and government.\n",
    "\n",
    "In this project, we will try to find the affordable accommodation options and facilities which are available around these areas and will try to find the factors which have impact on the pricing of the flat or house.\n"
   ]
  },
  {
   "cell_type": "markdown",
   "metadata": {},
   "source": [
    "### 2. Problem Statements:\n",
    "This project will try to explore the neighborhoods of Delhi to see:\n",
    "- if the surrounding venues can effect the price of real estates?  \n",
    "- what kind of surrounding venues, and to what extend, can effect the price?  \n",
    "- if we can use the surrounding venue to estimate the value of an accommodation over the average price of one area? And to what degree of confidence? \n",
    "  \n",
    "The result can be useful for home buyers, who can roughly estimate the value of a target house over the average.  \n",
    "Or to planners, who can decide which venues to place around their product, so that the price is maximized.  \n",
    "Or to just any normal person"
   ]
  },
  {
   "cell_type": "markdown",
   "metadata": {},
   "source": [
    "## II. Data Description:  \n",
    "The main data used for this project will be from two sources:\n",
    "- The average real state price by area in Delhi. ([99acres](https://www.99acres.com/property-rates-and-price-trends-in-delhi-ncr))\n",
    "- The venues in each neighborhood. ([FourSquare API](https://developer.foursquare.com/))  \n",
    "  \n",
    "Other supporting data:\n",
    "- Coordinates ([Geocoder Python](https://geocoder.readthedocs.io/index.html))\n",
    "- GeoJson ([http://data.beta.nyc](http://data.beta.nyc//dataset/0ff93d2d-90ba-457c-9f7e-39e47bf2ac5f/resource/35dd04fb-81b3-479b-a074-a27a37888ce7/download/d085e2f8d0b54d4590b1e7d1f35594c1pediacitiesnycneighborhoods.geojson))  \n",
    "\n",
    "*Note:\n",
    "This project will only consider the average price per square foot of residencial appartment, which is a common type of real estate among normal families."
   ]
  },
  {
   "cell_type": "markdown",
   "metadata": {},
   "source": [
    "### 1. Data collection process:\n",
    "- The average price will be scrapped from the 99acres website.\n",
    "- For each neighborhood, call Geocoder Python to get its coordinate.\n",
    "- For each neighborhood's coordinate, call FourSquare API to get the surrounding venues.  \n",
    "- Count the occurrences of each venue type and attach that information to each neighborhood.\n",
    "\n",
    "The output of the data collecting process will be a 2 dimensions dataframe:\n",
    "- Each row represents a neighborhood.\n",
    "- Each column will be the count of one type of venue in that neighborhood.\n",
    "- The last column will be the average 2-bedroom condo price of that neighborhood."
   ]
  },
  {
   "cell_type": "markdown",
   "metadata": {},
   "source": [
    "### 2. Using data to solve the question:  \n",
    "- First, correlation between price and surrounding venues will be checked.  \n",
    "- Second, if correlated, machine learning techniques (PCA, Regression, PCR) will be used to analyze the data. The output will be a list of venues types that effect the most on price, along with their weight on the result."
   ]
  },
  {
   "cell_type": "code",
   "execution_count": null,
   "metadata": {},
   "outputs": [],
   "source": []
  }
 ],
 "metadata": {
  "kernelspec": {
   "display_name": "Python 3",
   "language": "python",
   "name": "python3"
  },
  "language_info": {
   "codemirror_mode": {
    "name": "ipython",
    "version": 3
   },
   "file_extension": ".py",
   "mimetype": "text/x-python",
   "name": "python",
   "nbconvert_exporter": "python",
   "pygments_lexer": "ipython3",
   "version": "3.7.3"
  }
 },
 "nbformat": 4,
 "nbformat_minor": 2
}
